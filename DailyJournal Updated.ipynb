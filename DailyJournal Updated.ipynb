{
 "cells": [
  {
   "cell_type": "code",
   "execution_count": null,
   "id": "07cb1d39",
   "metadata": {},
   "outputs": [
    {
     "name": "stdout",
     "output_type": "stream",
     "text": [
      "\n",
      "Daily Journal Menu:\n",
      "1. Add a new entry\n",
      "2. Search entries\n",
      "3. Exit\n",
      "Enter your choice (1/2/3): 1\n",
      "Enter the date (YYYY-MM-DD): 2023-11-14\n",
      "Write your journal entry: Fixed Journal\n",
      "Add tags (comma-separated): fixed\n",
      "Add an image URL (optional): \n",
      "Entry added\n",
      "\n",
      "Daily Journal Menu:\n",
      "1. Add a new entry\n",
      "2. Search entries\n",
      "3. Exit\n",
      "Enter your choice (1/2/3): 2\n",
      "Enter a tag, entry, or date to search: Fixed\n",
      "Results:\n",
      "\n",
      "Date: 2023-11-14\n",
      "Entry: Fixed Journal\n",
      "Tags: fixed\n",
      "\n",
      "\n",
      "Daily Journal Menu:\n",
      "1. Add a new entry\n",
      "2. Search entries\n",
      "3. Exit\n"
     ]
    }
   ],
   "source": [
    "class DailyJournal:\n",
    "    def __init__(self):\n",
    "        self.journal=[] #Empty list to store journal entries\n",
    "    def add_entry(self,date,entry,tags,image):\n",
    "        #New entry\n",
    "        self.journal.append({\n",
    "            'date':date,\n",
    "            'entry':entry,\n",
    "            'tags':tags,\n",
    "            'image':image\n",
    "        })\n",
    "        print(\"Entry added\")\n",
    "    def search_entries(self,key):\n",
    "        #Search for entries via key/tag and make it capitlize\n",
    "        key=key.title()\n",
    "        match_e=[\n",
    "            entry for entry in self.journal\n",
    "            if key in entry['date'].title() or key in entry['entry'].title() or key in entry['tags']\n",
    "        ]\n",
    "        if match_e:\n",
    "            #Display matched entries\n",
    "            print(\"Results:\\n\")\n",
    "            for entry in match_e:\n",
    "                print(f\"Date: {entry['date']}\")\n",
    "                print(f\"Entry: {entry['entry']}\")\n",
    "                print(f\"Tags: {', '.join(entry['tags'])}\")\n",
    "                if entry['image']:\n",
    "                    print(f\"Image: {entry['image']}\")\n",
    "                print()\n",
    "        else:\n",
    "            print(\"No matching entries found.\")\n",
    "#Create class of Journal\n",
    "journal_app=DailyJournal()\n",
    "while True:\n",
    "    print(\"\\nDaily Journal Menu:\")\n",
    "    print(\"1. Add a new entry\")\n",
    "    print(\"2. Search entries\")\n",
    "    print(\"3. Exit\")\n",
    "    choice=input(\"Enter your choice (1/2/3): \")\n",
    "    if choice=='1':\n",
    "        #New entry\n",
    "        date=input(\"Enter the date (YYYY-MM-DD): \")\n",
    "        entry=input(\"Write your journal entry: \")\n",
    "        tags=input(\"Add tags (comma-separated): \").split(',')\n",
    "        image=input(\"Add an image URL (optional): \")\n",
    "        journal_app.add_entry(date,entry,tags,image)\n",
    "    elif choice=='2':\n",
    "        #Search for entry via key\n",
    "        key=input(\"Enter a tag, entry, or date to search: \")\n",
    "        journal_app.search_entries(key.title())\n",
    "    elif choice=='3':\n",
    "        #Exit\n",
    "        print(\"Goodbye\")\n",
    "        break\n",
    "    else:\n",
    "        #Error Message\n",
    "        print(\"Invalid choice\")"
   ]
  },
  {
   "cell_type": "markdown",
   "id": "7063f0ff",
   "metadata": {},
   "source": [
    "#### Authours: Jeremy Griffen, Ari Eastman and Justin Harlow. CS-150 Group Project\n"
   ]
  },
  {
   "cell_type": "code",
   "execution_count": null,
   "id": "ff92f9b2",
   "metadata": {},
   "outputs": [],
   "source": []
  }
 ],
 "metadata": {
  "kernelspec": {
   "display_name": "Python 3 (ipykernel)",
   "language": "python",
   "name": "python3"
  },
  "language_info": {
   "codemirror_mode": {
    "name": "ipython",
    "version": 3
   },
   "file_extension": ".py",
   "mimetype": "text/x-python",
   "name": "python",
   "nbconvert_exporter": "python",
   "pygments_lexer": "ipython3",
   "version": "3.11.4"
  }
 },
 "nbformat": 4,
 "nbformat_minor": 5
}
